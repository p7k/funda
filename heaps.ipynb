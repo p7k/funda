{
 "metadata": {
  "name": "",
  "signature": "sha256:79e6745914a26c8dd8287259caafa44d59e962be206e9456a3b39a4a03533957"
 },
 "nbformat": 3,
 "nbformat_minor": 0,
 "worksheets": [
  {
   "cells": [
    {
     "cell_type": "code",
     "collapsed": false,
     "input": [
      "def heapify(li, i=0):\n",
      "    l, r = (2*i + 1), (2*i + 2)\n",
      "    # swap\n",
      "    mini = i\n",
      "    if l < len(li) and l < li[mini]:\n",
      "        mini = l\n",
      "    if r < len(li) and r < li[mini]:\n",
      "        mini = r\n",
      "    li[i], li[mini] = li[mini], li[i]\n",
      "        \n",
      "    if l < len(li):\n",
      "        heapify(li, l)\n",
      "    if r < len(li):\n",
      "        heapify(li, r)\n",
      "\n",
      "    # swap\n",
      "    mini = i\n",
      "    if l < len(li) and l < li[mini]:\n",
      "        mini = l\n",
      "    if r < len(li) and r < li[mini]:\n",
      "        mini = r\n",
      "    li[i], li[mini] = li[mini], li[i]"
     ],
     "language": "python",
     "metadata": {},
     "outputs": [],
     "prompt_number": 36
    },
    {
     "cell_type": "code",
     "collapsed": false,
     "input": [
      "lin = [9,7,3,11,14,6,1]\n",
      "heapify(lin)\n",
      "lin"
     ],
     "language": "python",
     "metadata": {},
     "outputs": [
      {
       "metadata": {},
       "output_type": "pyout",
       "prompt_number": 37,
       "text": [
        "[1, 7, 3, 11, 14, 9, 6]"
       ]
      }
     ],
     "prompt_number": 37
    },
    {
     "cell_type": "code",
     "collapsed": false,
     "input": [
      "import heapq"
     ],
     "language": "python",
     "metadata": {},
     "outputs": [],
     "prompt_number": 38
    },
    {
     "cell_type": "code",
     "collapsed": false,
     "input": [
      "lin = [9,7,3,11,14,6,1]\n",
      "heapq.heapify(lin)\n",
      "lin"
     ],
     "language": "python",
     "metadata": {},
     "outputs": [
      {
       "metadata": {},
       "output_type": "pyout",
       "prompt_number": 39,
       "text": [
        "[1, 7, 3, 11, 14, 6, 9]"
       ]
      }
     ],
     "prompt_number": 39
    },
    {
     "cell_type": "code",
     "collapsed": false,
     "input": [
      "min((1,10), (0, 10, 20))"
     ],
     "language": "python",
     "metadata": {},
     "outputs": [
      {
       "metadata": {},
       "output_type": "pyout",
       "prompt_number": 40,
       "text": [
        "(0, 10, 20)"
       ]
      }
     ],
     "prompt_number": 40
    },
    {
     "cell_type": "code",
     "collapsed": false,
     "input": [],
     "language": "python",
     "metadata": {},
     "outputs": []
    }
   ],
   "metadata": {}
  }
 ]
}