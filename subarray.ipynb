{
 "metadata": {
  "name": "",
  "signature": "sha256:4e87a2842c0fdfbbf1acb2af45f87ff5ca251efcf0779b9cfb0014f646be4f4e"
 },
 "nbformat": 3,
 "nbformat_minor": 0,
 "worksheets": [
  {
   "cells": [
    {
     "cell_type": "heading",
     "level": 5,
     "metadata": {},
     "source": [
      "Maximum Subarray"
     ]
    },
    {
     "cell_type": "code",
     "collapsed": false,
     "input": [
      "# from Cormen 4.1 Maximum Subarray"
     ],
     "language": "python",
     "metadata": {},
     "outputs": [],
     "prompt_number": 9
    },
    {
     "cell_type": "code",
     "collapsed": false,
     "input": [
      "stock_price_ts = [100, 113, 110, 85, 105, 102, 86, 63, 81, 101, 94, 106, 101, 79, 94, 90, 97]"
     ],
     "language": "python",
     "metadata": {},
     "outputs": [],
     "prompt_number": 10
    },
    {
     "cell_type": "code",
     "collapsed": false,
     "input": [
      "def diff(a):\n",
      "    i, j = iter(a), iter(a)\n",
      "    next(i)\n",
      "    diffs = [0]\n",
      "    for pair in zip(i, j):\n",
      "        diffs.append(pair[0] - pair[1])\n",
      "    return diffs"
     ],
     "language": "python",
     "metadata": {},
     "outputs": [],
     "prompt_number": 11
    },
    {
     "cell_type": "code",
     "collapsed": false,
     "input": [
      "stock_price_diffs = diff(stock_price_ts)"
     ],
     "language": "python",
     "metadata": {},
     "outputs": [],
     "prompt_number": 12
    },
    {
     "cell_type": "code",
     "collapsed": false,
     "input": [
      "stock_price_diffs"
     ],
     "language": "python",
     "metadata": {},
     "outputs": [
      {
       "metadata": {},
       "output_type": "pyout",
       "prompt_number": 13,
       "text": [
        "[0, 13, -3, -25, 20, -3, -16, -23, 18, 20, -7, 12, -5, -22, 15, -4, 7]"
       ]
      }
     ],
     "prompt_number": 13
    },
    {
     "cell_type": "code",
     "collapsed": false,
     "input": [
      "def find_max_crossing_subarray(a, low, mid, high):\n",
      "    l_sum = -999999\n",
      "    _sum = 0\n",
      "    for i in xrange(mid, low - 1, -1):\n",
      "        _sum += a[i]\n",
      "        if _sum > l_sum:\n",
      "            l_sum = _sum\n",
      "            max_l = i\n",
      "    r_sum = -999999\n",
      "    _sum = 0\n",
      "    for j in xrange(mid + 1, high):\n",
      "        _sum += a[j]\n",
      "        if _sum > r_sum:\n",
      "            r_sum = _sum\n",
      "            max_r = j\n",
      "    return (max_l, max_r, l_sum + r_sum)"
     ],
     "language": "python",
     "metadata": {},
     "outputs": [],
     "prompt_number": 14
    },
    {
     "cell_type": "code",
     "collapsed": false,
     "input": [
      "find_max_crossing_subarray(stock_price_diffs, 0, len(stock_price_diffs) / 2, len(stock_price_diffs))"
     ],
     "language": "python",
     "metadata": {},
     "outputs": [
      {
       "metadata": {},
       "output_type": "pyout",
       "prompt_number": 15,
       "text": [
        "(8, 11, 43)"
       ]
      }
     ],
     "prompt_number": 15
    },
    {
     "cell_type": "code",
     "collapsed": false,
     "input": [
      "def find_max_subarray(a, low, mid, high):\n",
      "    # base\n",
      "    if low == mid:\n",
      "        return (low, mid, a[low])\n",
      "    else:\n",
      "        "
     ],
     "language": "python",
     "metadata": {},
     "outputs": [
      {
       "ename": "IndentationError",
       "evalue": "expected an indented block (<ipython-input-16-9bed073a2d91>, line 6)",
       "output_type": "pyerr",
       "traceback": [
        "\u001b[0;36m  File \u001b[0;32m\"<ipython-input-16-9bed073a2d91>\"\u001b[0;36m, line \u001b[0;32m6\u001b[0m\n\u001b[0;31m    \u001b[0m\n\u001b[0m    ^\u001b[0m\n\u001b[0;31mIndentationError\u001b[0m\u001b[0;31m:\u001b[0m expected an indented block\n"
       ]
      }
     ],
     "prompt_number": 16
    },
    {
     "cell_type": "code",
     "collapsed": false,
     "input": [],
     "language": "python",
     "metadata": {},
     "outputs": [],
     "prompt_number": 16
    },
    {
     "cell_type": "code",
     "collapsed": false,
     "input": [
      "def max_subsequence(seq):\n",
      "    max_sum, sum_local = float('-inf'), 0\n",
      "    for e in seq:\n",
      "        sum_local += e\n",
      "        if sum_local < 0:\n",
      "            sum_local = 0\n",
      "        if sum_local > max_sum:\n",
      "            max_sum = sum_local\n",
      "    return max_sum"
     ],
     "language": "python",
     "metadata": {},
     "outputs": [],
     "prompt_number": 36
    },
    {
     "cell_type": "code",
     "collapsed": false,
     "input": [
      "def max_subsequence(seq):\n",
      "    max_sum, sum_local = float('-inf'), 0\n",
      "    for e in seq:\n",
      "        sum_local = max(sum_local + e, 0)\n",
      "        max_sum = max(max_sum, sum_local)\n",
      "    return max_sum"
     ],
     "language": "python",
     "metadata": {},
     "outputs": [],
     "prompt_number": 62
    },
    {
     "cell_type": "code",
     "collapsed": false,
     "input": [
      "max_subsequence(stock_price_diffs)"
     ],
     "language": "python",
     "metadata": {},
     "outputs": [
      {
       "metadata": {},
       "output_type": "pyout",
       "prompt_number": 63,
       "text": [
        "43"
       ]
      }
     ],
     "prompt_number": 63
    },
    {
     "cell_type": "code",
     "collapsed": false,
     "input": [],
     "language": "python",
     "metadata": {},
     "outputs": []
    }
   ],
   "metadata": {}
  }
 ]
}