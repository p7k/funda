{
 "metadata": {
  "name": "",
  "signature": "sha256:7d1c8a430db4a15a745c248ff5df7fb6079c072180f900f4404b826b21ef37b3"
 },
 "nbformat": 3,
 "nbformat_minor": 0,
 "worksheets": [
  {
   "cells": [
    {
     "cell_type": "heading",
     "level": 6,
     "metadata": {},
     "source": [
      "Segments Problem"
     ]
    },
    {
     "cell_type": "code",
     "collapsed": false,
     "input": [
      "# see Cormen (14.3 Interval Trees)  and Segment Trees"
     ],
     "language": "python",
     "metadata": {},
     "outputs": []
    },
    {
     "cell_type": "code",
     "collapsed": false,
     "input": [
      "#  1----6\n",
      "#     4---8\n",
      "# 0--3\n",
      "#      5---9\n",
      "\n"
     ],
     "language": "python",
     "metadata": {},
     "outputs": []
    },
    {
     "cell_type": "heading",
     "level": 6,
     "metadata": {},
     "source": [
      "Splits Problem"
     ]
    },
    {
     "cell_type": "code",
     "collapsed": false,
     "input": [
      "# see Quadtrees (http://en.wikipedia.org/wiki/Quadtree)\n",
      "# see R-tree (http://en.wikipedia.org/wiki/R-tree)\n",
      "\n",
      "# http://stackoverflow.com/questions/17466218/what-are-the-differences-between-segment-trees-interval-trees-binary-indexed-t"
     ],
     "language": "python",
     "metadata": {},
     "outputs": []
    },
    {
     "cell_type": "heading",
     "level": 5,
     "metadata": {},
     "source": [
      "String Optimization "
     ]
    },
    {
     "cell_type": "code",
     "collapsed": false,
     "input": [
      "# Tries\n",
      "# Syntax trees\n",
      "# Ropes http://en.wikipedia.org/wiki/Rope_(data_structure)"
     ],
     "language": "python",
     "metadata": {},
     "outputs": []
    },
    {
     "cell_type": "heading",
     "level": 6,
     "metadata": {},
     "source": [
      "Number to Text Translator"
     ]
    },
    {
     "cell_type": "code",
     "collapsed": false,
     "input": [
      "import math\n",
      "numbers = {0: 'zero', 1: 'one', 2: 'two', 3: 'three', 4: 'four', 5: 'five',\n",
      "           6: 'six', 7: 'seven', 8: 'eight', 9: 'nine', 10: 'ten',\n",
      "           11: 'eleven', 12: 'twelve', 13: 'thirteen', 14: 'fourteen', 15: 'fifteen',\n",
      "           16: 'sixteen', 17: 'seventeen', 18: 'eighteen', 19: 'nineteen',   # everything below 20\n",
      "           20: 'twenty', 30: 'thirty', 40: 'forty', 50: 'fifty',\n",
      "           60: 'sixty', 70: 'seventy', 80: 'eighty', 90: 'ninety',           # all tens\n",
      "           100: 'hundred', 1000: 'thousand'}                                 # magnitudes\n",
      "def num_tran(num):\n",
      "    if num < 20:\n",
      "        # everything below 20 has a special name\n",
      "        return [numbers[num]]\n",
      "    else:\n",
      "        order = 10 ** int(math.floor(math.log10(num)))\n",
      "        count = num // order\n",
      "        if order == 10:\n",
      "            # special order of 10 {twenty, thirty, forty, ...}\n",
      "            words = [numbers[count * 10]]\n",
      "        else:   \n",
      "            words = [numbers[count], numbers[order]]\n",
      "        remainder = num % order\n",
      "        return words + num_tran(remainder)"
     ],
     "language": "python",
     "metadata": {},
     "outputs": [],
     "prompt_number": 110
    },
    {
     "cell_type": "code",
     "collapsed": false,
     "input": [
      "num = 8175;\n",
      "num_tran(num)\n",
      "# ' '.join(num_tran(num)) == 'three thousand one hundred twenty three'"
     ],
     "language": "python",
     "metadata": {},
     "outputs": [
      {
       "metadata": {},
       "output_type": "pyout",
       "prompt_number": 111,
       "text": [
        "['eight', 'thousand', 'one', 'hundred', 'seventy', 'five']"
       ]
      }
     ],
     "prompt_number": 111
    },
    {
     "cell_type": "code",
     "collapsed": false,
     "input": [
      "{1: 'a'} + {2: 'b'}"
     ],
     "language": "python",
     "metadata": {},
     "outputs": [
      {
       "ename": "TypeError",
       "evalue": "unsupported operand type(s) for +: 'dict' and 'dict'",
       "output_type": "pyerr",
       "traceback": [
        "\u001b[0;31m---------------------------------------------------------------------------\u001b[0m\n\u001b[0;31mTypeError\u001b[0m                                 Traceback (most recent call last)",
        "\u001b[0;32m<ipython-input-99-bfb5b973b326>\u001b[0m in \u001b[0;36m<module>\u001b[0;34m()\u001b[0m\n\u001b[0;32m----> 1\u001b[0;31m \u001b[0;34m{\u001b[0m\u001b[0;36m1\u001b[0m\u001b[0;34m:\u001b[0m \u001b[0;34m'a'\u001b[0m\u001b[0;34m}\u001b[0m \u001b[0;34m+\u001b[0m \u001b[0;34m{\u001b[0m\u001b[0;36m2\u001b[0m\u001b[0;34m:\u001b[0m \u001b[0;34m'b'\u001b[0m\u001b[0;34m}\u001b[0m\u001b[0;34m\u001b[0m\u001b[0m\n\u001b[0m",
        "\u001b[0;31mTypeError\u001b[0m: unsupported operand type(s) for +: 'dict' and 'dict'"
       ]
      }
     ],
     "prompt_number": 99
    },
    {
     "cell_type": "code",
     "collapsed": false,
     "input": [
      "bin(2)"
     ],
     "language": "python",
     "metadata": {},
     "outputs": [
      {
       "metadata": {},
       "output_type": "pyout",
       "prompt_number": 120,
       "text": [
        "'0b10'"
       ]
      }
     ],
     "prompt_number": 120
    },
    {
     "cell_type": "code",
     "collapsed": false,
     "input": [
      "math.log(2,2)+1"
     ],
     "language": "python",
     "metadata": {},
     "outputs": [
      {
       "metadata": {},
       "output_type": "pyout",
       "prompt_number": 122,
       "text": [
        "2.0"
       ]
      }
     ],
     "prompt_number": 122
    },
    {
     "cell_type": "code",
     "collapsed": false,
     "input": [
      "def largest_sum(ol):\n",
      "    partials = []\n",
      "    prev = 0\n",
      "    for i, e in enumerate(ol):\n",
      "        partials.append(prev + e)\n",
      "        prev = e\n",
      "    return partials"
     ],
     "language": "python",
     "metadata": {},
     "outputs": [],
     "prompt_number": 159
    },
    {
     "cell_type": "code",
     "collapsed": false,
     "input": [
      "largest_sum([1,2,-3,4,5,1,0,0,4])"
     ],
     "language": "python",
     "metadata": {},
     "outputs": [
      {
       "metadata": {},
       "output_type": "pyout",
       "prompt_number": 161,
       "text": [
        "[1, 3, -1, 1, 9, 6, 1, 0, 4]"
       ]
      }
     ],
     "prompt_number": 161
    },
    {
     "cell_type": "code",
     "collapsed": false,
     "input": [],
     "language": "python",
     "metadata": {},
     "outputs": [],
     "prompt_number": 0
    },
    {
     "cell_type": "code",
     "collapsed": false,
     "input": [
      "def hr_angle(HH, mm):\n",
      "    return 30*HH + .5*mm"
     ],
     "language": "python",
     "metadata": {},
     "outputs": [],
     "prompt_number": 17
    },
    {
     "cell_type": "code",
     "collapsed": false,
     "input": [
      "hour_angle(0,60)"
     ],
     "language": "python",
     "metadata": {},
     "outputs": [
      {
       "metadata": {},
       "output_type": "pyout",
       "prompt_number": 21,
       "text": [
        "30.0"
       ]
      }
     ],
     "prompt_number": 21
    },
    {
     "cell_type": "heading",
     "level": 3,
     "metadata": {},
     "source": []
    }
   ],
   "metadata": {}
  }
 ]
}