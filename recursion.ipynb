{
 "metadata": {
  "name": "",
  "signature": "sha256:b905d50c345adb715584dd2cc930a92eb0e0b564b8aeaa50483ecd8c9b231720"
 },
 "nbformat": 3,
 "nbformat_minor": 0,
 "worksheets": [
  {
   "cells": [
    {
     "cell_type": "heading",
     "level": 2,
     "metadata": {},
     "source": [
      "Factorial"
     ]
    },
    {
     "cell_type": "code",
     "collapsed": false,
     "input": [
      "def factorial(n):\n",
      "    return n * factorial(n-1) if n > 1 else 1\n",
      "    \n",
      "from operator import mul\n",
      "def factorial_func(n):\n",
      "    return reduce(mul, xrange(2, n+1)) if n > 1 else 1\n",
      "\n",
      "def factorial_iter(n):\n",
      "    if n < 2:\n",
      "        return 1\n",
      "    prod = 1\n",
      "    for x in xrange(2, n+1):\n",
      "        prod *= x\n",
      "    return prod"
     ],
     "language": "python",
     "metadata": {},
     "outputs": [],
     "prompt_number": 10
    },
    {
     "cell_type": "code",
     "collapsed": false,
     "input": [
      "factorial(24) == factorial_func(24) == factorial_iter(24)"
     ],
     "language": "python",
     "metadata": {},
     "outputs": [
      {
       "metadata": {},
       "output_type": "pyout",
       "prompt_number": 11,
       "text": [
        "True"
       ]
      }
     ],
     "prompt_number": 11
    },
    {
     "cell_type": "code",
     "collapsed": false,
     "input": [
      "%timeit factorial(90)"
     ],
     "language": "python",
     "metadata": {},
     "outputs": [
      {
       "output_type": "stream",
       "stream": "stdout",
       "text": [
        "10000 loops, best of 3: 21.3 \u00b5s per loop\n"
       ]
      }
     ],
     "prompt_number": 12
    },
    {
     "cell_type": "code",
     "collapsed": false,
     "input": [
      "%timeit factorial_func(90)"
     ],
     "language": "python",
     "metadata": {},
     "outputs": [
      {
       "output_type": "stream",
       "stream": "stdout",
       "text": [
        "100000 loops, best of 3: 10.5 \u00b5s per loop\n"
       ]
      }
     ],
     "prompt_number": 13
    },
    {
     "cell_type": "code",
     "collapsed": false,
     "input": [
      "%timeit factorial_iter(90)"
     ],
     "language": "python",
     "metadata": {},
     "outputs": [
      {
       "output_type": "stream",
       "stream": "stdout",
       "text": [
        "100000 loops, best of 3: 10.6 \u00b5s per loop\n"
       ]
      }
     ],
     "prompt_number": 14
    },
    {
     "cell_type": "code",
     "collapsed": false,
     "input": [
      "import math\n",
      "%timeit math.factorial(90)"
     ],
     "language": "python",
     "metadata": {},
     "outputs": [
      {
       "output_type": "stream",
       "stream": "stdout",
       "text": [
        "100000 loops, best of 3: 6.02 \u00b5s per loop\n"
       ]
      }
     ],
     "prompt_number": 15
    },
    {
     "cell_type": "code",
     "collapsed": false,
     "input": [
      "for i in xrange(15):\n",
      "    print factorial(i), math.factorial(i)"
     ],
     "language": "python",
     "metadata": {},
     "outputs": [
      {
       "output_type": "stream",
       "stream": "stdout",
       "text": [
        "1 1\n",
        "1 1\n",
        "2 2\n",
        "6 6\n",
        "24 24\n",
        "120 120\n",
        "720 720\n",
        "5040 5040\n",
        "40320 40320\n",
        "362880 362880\n",
        "3628800 3628800\n",
        "39916800 39916800\n",
        "479001600 479001600\n",
        "6227020800 6227020800\n",
        "87178291200 87178291200\n"
       ]
      }
     ],
     "prompt_number": 16
    },
    {
     "cell_type": "heading",
     "level": 2,
     "metadata": {},
     "source": [
      "Permutations (of a string)"
     ]
    },
    {
     "cell_type": "code",
     "collapsed": false,
     "input": [
      "def permutations(word, prefix, l):\n",
      "    if not word:\n",
      "        l.append(prefix)\n",
      "    else:\n",
      "        for i in xrange(len(word)):\n",
      "            permutations(word[:i] + word[i+1:], prefix + word[i], l)"
     ],
     "language": "python",
     "metadata": {},
     "outputs": [],
     "prompt_number": 17
    },
    {
     "cell_type": "code",
     "collapsed": false,
     "input": [
      "l = []\n",
      "word = '1234'\n",
      "permutations(word, '', l)\n",
      "# number of permutations = n!\n",
      "l, len(l), factorial(len(word))"
     ],
     "language": "python",
     "metadata": {},
     "outputs": [
      {
       "metadata": {},
       "output_type": "pyout",
       "prompt_number": 18,
       "text": [
        "(['1234',\n",
        "  '1243',\n",
        "  '1324',\n",
        "  '1342',\n",
        "  '1423',\n",
        "  '1432',\n",
        "  '2134',\n",
        "  '2143',\n",
        "  '2314',\n",
        "  '2341',\n",
        "  '2413',\n",
        "  '2431',\n",
        "  '3124',\n",
        "  '3142',\n",
        "  '3214',\n",
        "  '3241',\n",
        "  '3412',\n",
        "  '3421',\n",
        "  '4123',\n",
        "  '4132',\n",
        "  '4213',\n",
        "  '4231',\n",
        "  '4312',\n",
        "  '4321'],\n",
        " 24,\n",
        " 24)"
       ]
      }
     ],
     "prompt_number": 18
    },
    {
     "cell_type": "code",
     "collapsed": false,
     "input": [
      "import itertools"
     ],
     "language": "python",
     "metadata": {},
     "outputs": [],
     "prompt_number": 35
    },
    {
     "cell_type": "code",
     "collapsed": false,
     "input": [
      "itertools.permutations?"
     ],
     "language": "python",
     "metadata": {},
     "outputs": [],
     "prompt_number": 39
    },
    {
     "cell_type": "code",
     "collapsed": false,
     "input": [
      "def combinations(s, n):\n",
      "    if len(s) < 1:\n",
      "        return ()\n",
      "        "
     ],
     "language": "python",
     "metadata": {},
     "outputs": []
    },
    {
     "cell_type": "code",
     "collapsed": false,
     "input": [
      "list(itertools.combinations('a', 2))"
     ],
     "language": "python",
     "metadata": {},
     "outputs": [
      {
       "metadata": {},
       "output_type": "pyout",
       "prompt_number": 36,
       "text": [
        "[]"
       ]
      }
     ],
     "prompt_number": 36
    },
    {
     "cell_type": "heading",
     "level": 2,
     "metadata": {},
     "source": [
      "Counting ways (Problem 9.1)"
     ]
    },
    {
     "cell_type": "code",
     "collapsed": false,
     "input": [
      "def count_ways(n):\n",
      "    if n < 0:\n",
      "        return 0\n",
      "    elif n == 0:\n",
      "        return 1\n",
      "    else:\n",
      "        return count_ways(n-1) + count_ways(n-2) + count_ways(n-3)"
     ],
     "language": "python",
     "metadata": {},
     "outputs": [],
     "prompt_number": 81
    },
    {
     "cell_type": "code",
     "collapsed": false,
     "input": [
      "count_ways(4)"
     ],
     "language": "python",
     "metadata": {},
     "outputs": [
      {
       "metadata": {},
       "output_type": "pyout",
       "prompt_number": 82,
       "text": [
        "7"
       ]
      }
     ],
     "prompt_number": 82
    },
    {
     "cell_type": "heading",
     "level": 2,
     "metadata": {},
     "source": [
      "Binary Search"
     ]
    },
    {
     "cell_type": "code",
     "collapsed": false,
     "input": [
      "def bin_search(l, k, i=0, j=None):\n",
      "    mid = len(l) // 2\n",
      "    print l, k, mid\n",
      "    if not l:\n",
      "        return None\n",
      "    if l[mid] == k:\n",
      "        return k\n",
      "    elif l[mid] > k:\n",
      "        return bin_search(l[:mid], k)\n",
      "    else:\n",
      "        return bin_search(l[mid+1:], k)"
     ],
     "language": "python",
     "metadata": {},
     "outputs": [],
     "prompt_number": 32
    },
    {
     "cell_type": "code",
     "collapsed": false,
     "input": [
      "bin_search(range(10), 2)"
     ],
     "language": "python",
     "metadata": {},
     "outputs": [
      {
       "output_type": "stream",
       "stream": "stdout",
       "text": [
        "[0, 1, 2, 3, 4, 5, 6, 7, 8, 9] 2 5\n",
        "[0, 1, 2, 3, 4] 2 2\n"
       ]
      },
      {
       "metadata": {},
       "output_type": "pyout",
       "prompt_number": 35,
       "text": [
        "2"
       ]
      }
     ],
     "prompt_number": 35
    },
    {
     "cell_type": "heading",
     "level": 2,
     "metadata": {},
     "source": [
      "Binomial Expression ( choose - combination w/o order)"
     ]
    },
    {
     "cell_type": "raw",
     "metadata": {},
     "source": [
      "C(n,r) = n! / (n!(n-k)!)"
     ]
    },
    {
     "cell_type": "heading",
     "level": 2,
     "metadata": {},
     "source": [
      "PowerSet"
     ]
    },
    {
     "cell_type": "code",
     "collapsed": false,
     "input": [
      "def powerset_bin(s):\n",
      "    pset = []\n",
      "    m = 1 << len(s)\n",
      "    for i in xrange(m):\n",
      "        subset = []\n",
      "        for k in xrange(len(s)):\n",
      "            bit = i >> k & 1\n",
      "            if bit:\n",
      "                subset.append(s[k])\n",
      "        pset.append(subset)\n",
      "    return pset"
     ],
     "language": "python",
     "metadata": {},
     "outputs": [],
     "prompt_number": 278
    },
    {
     "cell_type": "code",
     "collapsed": false,
     "input": [
      "powerset_bin('abcd')"
     ],
     "language": "python",
     "metadata": {},
     "outputs": [
      {
       "metadata": {},
       "output_type": "pyout",
       "prompt_number": 282,
       "text": [
        "[[],\n",
        " ['a'],\n",
        " ['b'],\n",
        " ['a', 'b'],\n",
        " ['c'],\n",
        " ['a', 'c'],\n",
        " ['b', 'c'],\n",
        " ['a', 'b', 'c'],\n",
        " ['d'],\n",
        " ['a', 'd'],\n",
        " ['b', 'd'],\n",
        " ['a', 'b', 'd'],\n",
        " ['c', 'd'],\n",
        " ['a', 'c', 'd'],\n",
        " ['b', 'c', 'd'],\n",
        " ['a', 'b', 'c', 'd']]"
       ]
      }
     ],
     "prompt_number": 282
    },
    {
     "cell_type": "code",
     "collapsed": false,
     "input": [
      "def powerset_rec(s):\n",
      "    l = len(s)\n",
      "    if l == 0:\n",
      "        return [[]]\n",
      "    elif l == 1:\n",
      "        return [[], [s[0]]]\n",
      "    elif l == 2:\n",
      "        return [[], [s[0]], [s[1]], [s[0], s[1]]]\n",
      "    else:\n",
      "        prev = powerset_rec(s[:-1])\n",
      "        this = []\n",
      "        for e in prev:\n",
      "            cl = [ee for ee in e]\n",
      "            cl.append(s[-1])\n",
      "            this.append(cl)\n",
      "        return prev + this"
     ],
     "language": "python",
     "metadata": {},
     "outputs": [],
     "prompt_number": 30
    },
    {
     "cell_type": "code",
     "collapsed": false,
     "input": [
      "powerset_rec('abcdef') "
     ],
     "language": "python",
     "metadata": {},
     "outputs": [
      {
       "metadata": {},
       "output_type": "pyout",
       "prompt_number": 31,
       "text": [
        "[[],\n",
        " ['a'],\n",
        " ['b'],\n",
        " ['a', 'b'],\n",
        " ['c'],\n",
        " ['a', 'c'],\n",
        " ['b', 'c'],\n",
        " ['a', 'b', 'c'],\n",
        " ['d'],\n",
        " ['a', 'd'],\n",
        " ['b', 'd'],\n",
        " ['a', 'b', 'd'],\n",
        " ['c', 'd'],\n",
        " ['a', 'c', 'd'],\n",
        " ['b', 'c', 'd'],\n",
        " ['a', 'b', 'c', 'd'],\n",
        " ['e'],\n",
        " ['a', 'e'],\n",
        " ['b', 'e'],\n",
        " ['a', 'b', 'e'],\n",
        " ['c', 'e'],\n",
        " ['a', 'c', 'e'],\n",
        " ['b', 'c', 'e'],\n",
        " ['a', 'b', 'c', 'e'],\n",
        " ['d', 'e'],\n",
        " ['a', 'd', 'e'],\n",
        " ['b', 'd', 'e'],\n",
        " ['a', 'b', 'd', 'e'],\n",
        " ['c', 'd', 'e'],\n",
        " ['a', 'c', 'd', 'e'],\n",
        " ['b', 'c', 'd', 'e'],\n",
        " ['a', 'b', 'c', 'd', 'e'],\n",
        " ['f'],\n",
        " ['a', 'f'],\n",
        " ['b', 'f'],\n",
        " ['a', 'b', 'f'],\n",
        " ['c', 'f'],\n",
        " ['a', 'c', 'f'],\n",
        " ['b', 'c', 'f'],\n",
        " ['a', 'b', 'c', 'f'],\n",
        " ['d', 'f'],\n",
        " ['a', 'd', 'f'],\n",
        " ['b', 'd', 'f'],\n",
        " ['a', 'b', 'd', 'f'],\n",
        " ['c', 'd', 'f'],\n",
        " ['a', 'c', 'd', 'f'],\n",
        " ['b', 'c', 'd', 'f'],\n",
        " ['a', 'b', 'c', 'd', 'f'],\n",
        " ['e', 'f'],\n",
        " ['a', 'e', 'f'],\n",
        " ['b', 'e', 'f'],\n",
        " ['a', 'b', 'e', 'f'],\n",
        " ['c', 'e', 'f'],\n",
        " ['a', 'c', 'e', 'f'],\n",
        " ['b', 'c', 'e', 'f'],\n",
        " ['a', 'b', 'c', 'e', 'f'],\n",
        " ['d', 'e', 'f'],\n",
        " ['a', 'd', 'e', 'f'],\n",
        " ['b', 'd', 'e', 'f'],\n",
        " ['a', 'b', 'd', 'e', 'f'],\n",
        " ['c', 'd', 'e', 'f'],\n",
        " ['a', 'c', 'd', 'e', 'f'],\n",
        " ['b', 'c', 'd', 'e', 'f'],\n",
        " ['a', 'b', 'c', 'd', 'e', 'f']]"
       ]
      }
     ],
     "prompt_number": 31
    },
    {
     "cell_type": "code",
     "collapsed": false,
     "input": [
      "def combinations(s, prefix, n):\n",
      "    if n == 0:\n",
      "        print prefix\n",
      "    for i in xrange(len(s)):\n",
      "        combinations(s[i+1:], prefix + s[i], n-1)"
     ],
     "language": "python",
     "metadata": {},
     "outputs": [],
     "prompt_number": 12
    },
    {
     "cell_type": "code",
     "collapsed": false,
     "input": [
      "combinations('abcd', '', 3)"
     ],
     "language": "python",
     "metadata": {},
     "outputs": [
      {
       "output_type": "stream",
       "stream": "stdout",
       "text": [
        "abc\n",
        "abd\n",
        "acd\n",
        "bcd\n"
       ]
      }
     ],
     "prompt_number": 18
    },
    {
     "cell_type": "code",
     "collapsed": false,
     "input": [
      "def permutations(s, prefix):\n",
      "    if len(s) == 0:\n",
      "        print prefix\n",
      "    for i in xrange(len(s)):\n",
      "        permutations(s[:i] + s[i+1:], prefix + s[i])"
     ],
     "language": "python",
     "metadata": {},
     "outputs": [],
     "prompt_number": 19
    },
    {
     "cell_type": "code",
     "collapsed": false,
     "input": [
      "permutations('abcd', '')"
     ],
     "language": "python",
     "metadata": {},
     "outputs": [
      {
       "output_type": "stream",
       "stream": "stdout",
       "text": [
        "abcd\n",
        "abdc\n",
        "acbd\n",
        "acdb\n",
        "adbc\n",
        "adcb\n",
        "bacd\n",
        "badc\n",
        "bcad\n",
        "bcda\n",
        "bdac\n",
        "bdca\n",
        "cabd\n",
        "cadb\n",
        "cbad\n",
        "cbda\n",
        "cdab\n",
        "cdba\n",
        "dabc\n",
        "dacb\n",
        "dbac\n",
        "dbca\n",
        "dcab\n",
        "dcba\n"
       ]
      }
     ],
     "prompt_number": 21
    },
    {
     "cell_type": "code",
     "collapsed": false,
     "input": [
      "def fib_naive(n):\n",
      "    return 1 if n < 2 else fib_naive(n-1) + fib_naive(n-2)"
     ],
     "language": "python",
     "metadata": {},
     "outputs": [],
     "prompt_number": 43
    },
    {
     "cell_type": "code",
     "collapsed": false,
     "input": [
      "fib_naive(20)"
     ],
     "language": "python",
     "metadata": {},
     "outputs": [
      {
       "metadata": {},
       "output_type": "pyout",
       "prompt_number": 55,
       "text": [
        "10946"
       ]
      }
     ],
     "prompt_number": 55
    },
    {
     "cell_type": "code",
     "collapsed": false,
     "input": [
      "%timeit fib_naive(20)"
     ],
     "language": "python",
     "metadata": {},
     "outputs": [
      {
       "output_type": "stream",
       "stream": "stdout",
       "text": [
        "100 loops, best of 3: 2.97 ms per loop\n"
       ]
      }
     ],
     "prompt_number": 50
    },
    {
     "cell_type": "code",
     "collapsed": false,
     "input": [
      "def fib(n):\n",
      "    if n < 2:\n",
      "        return (n, 1)\n",
      "    else:\n",
      "        f1, f2 = fib(n-1)\n",
      "        return (f1+f2, f1)"
     ],
     "language": "python",
     "metadata": {},
     "outputs": [],
     "prompt_number": 69
    },
    {
     "cell_type": "code",
     "collapsed": false,
     "input": [
      "%timeit fib(20)[0]"
     ],
     "language": "python",
     "metadata": {},
     "outputs": [
      {
       "output_type": "stream",
       "stream": "stdout",
       "text": [
        "100000 loops, best of 3: 4.6 \u00b5s per loop\n"
       ]
      }
     ],
     "prompt_number": 70
    },
    {
     "cell_type": "code",
     "collapsed": false,
     "input": [
      "def summ(s, n):\n",
      "    return 0 if n == 0 else summ(s, n-1) + s[n-1]"
     ],
     "language": "python",
     "metadata": {},
     "outputs": [],
     "prompt_number": 93
    },
    {
     "cell_type": "code",
     "collapsed": false,
     "input": [
      "summ([1,2,3,4,5], 5)"
     ],
     "language": "python",
     "metadata": {},
     "outputs": [
      {
       "metadata": {},
       "output_type": "pyout",
       "prompt_number": 94,
       "text": [
        "15"
       ]
      }
     ],
     "prompt_number": 94
    },
    {
     "cell_type": "code",
     "collapsed": false,
     "input": [
      "def rev(s, first, last):\n",
      "    if first < last:\n",
      "        s[first], s[last] = s[last], s[first]\n",
      "        rev(s, first+1, last-1)"
     ],
     "language": "python",
     "metadata": {},
     "outputs": [],
     "prompt_number": 95
    },
    {
     "cell_type": "code",
     "collapsed": false,
     "input": [
      "l = range(10)\n",
      "print l"
     ],
     "language": "python",
     "metadata": {},
     "outputs": [
      {
       "output_type": "stream",
       "stream": "stdout",
       "text": [
        "[0, 1, 2, 3, 4, 5, 6, 7, 8, 9]\n"
       ]
      }
     ],
     "prompt_number": 99
    },
    {
     "cell_type": "code",
     "collapsed": false,
     "input": [
      "rev(l, 0, len(l)-1)"
     ],
     "language": "python",
     "metadata": {},
     "outputs": [],
     "prompt_number": 100
    },
    {
     "cell_type": "code",
     "collapsed": false,
     "input": [
      "l"
     ],
     "language": "python",
     "metadata": {},
     "outputs": [
      {
       "metadata": {},
       "output_type": "pyout",
       "prompt_number": 101,
       "text": [
        "[9, 8, 7, 6, 5, 4, 3, 2, 1, 0]"
       ]
      }
     ],
     "prompt_number": 101
    },
    {
     "cell_type": "code",
     "collapsed": false,
     "input": [
      "from collections import deque"
     ],
     "language": "python",
     "metadata": {},
     "outputs": [],
     "prompt_number": 10
    },
    {
     "cell_type": "code",
     "collapsed": false,
     "input": [
      "def merge(a, b):\n",
      "    merged = deque()\n",
      "    while a or b:\n",
      "        if a and b:\n",
      "            pick = a if a[-1] > b[-1] else b\n",
      "        else:\n",
      "            pick = a or b\n",
      "        merged.appendleft(pick.pop())\n",
      "    return merged"
     ],
     "language": "python",
     "metadata": {},
     "outputs": [],
     "prompt_number": 11
    },
    {
     "cell_type": "code",
     "collapsed": false,
     "input": [
      "def sortt(s):\n",
      "    if len(s) < 2:\n",
      "        return s\n",
      "    else:\n",
      "        mid = len(s) // 2\n",
      "        a = sortt(s[:mid])\n",
      "        b = sortt(s[mid:])\n",
      "        return merge(a, b)"
     ],
     "language": "python",
     "metadata": {},
     "outputs": [],
     "prompt_number": 226
    },
    {
     "cell_type": "code",
     "collapsed": false,
     "input": [
      "s = [1,7,4,8,3,2]\n",
      "sortt(s)"
     ],
     "language": "python",
     "metadata": {},
     "outputs": [
      {
       "metadata": {},
       "output_type": "pyout",
       "prompt_number": 227,
       "text": [
        "deque([1, 2, 3, 4, 7, 8])"
       ]
      }
     ],
     "prompt_number": 227
    },
    {
     "cell_type": "code",
     "collapsed": false,
     "input": [],
     "language": "python",
     "metadata": {},
     "outputs": [],
     "prompt_number": 227
    },
    {
     "cell_type": "code",
     "collapsed": false,
     "input": [
      "def sortt(s, low, high):\n",
      "    if high - low < 2:\n",
      "        return s[low:high]\n",
      "    else:\n",
      "        mid = (low + high) // 2\n",
      "        a = sortt(s, low, mid)\n",
      "        b = sortt(s, mid, high)\n",
      "        return merge(a, b)"
     ],
     "language": "python",
     "metadata": {},
     "outputs": [],
     "prompt_number": 16
    },
    {
     "cell_type": "code",
     "collapsed": false,
     "input": [
      "s = [1,7,4,8,3,2,0,5]\n",
      "sortt(s, 0, len(s))"
     ],
     "language": "python",
     "metadata": {},
     "outputs": [
      {
       "metadata": {},
       "output_type": "pyout",
       "prompt_number": 20,
       "text": [
        "deque([0, 1, 2, 3, 4, 5, 7, 8])"
       ]
      }
     ],
     "prompt_number": 20
    },
    {
     "cell_type": "code",
     "collapsed": false,
     "input": [],
     "language": "python",
     "metadata": {},
     "outputs": []
    }
   ],
   "metadata": {}
  }
 ]
}