{
 "metadata": {
  "name": "",
  "signature": "sha256:1ba1c42ee89e6d948fca108e3c7e70ff91e979b27151e8cef12bafe29c9f5e42"
 },
 "nbformat": 3,
 "nbformat_minor": 0,
 "worksheets": [
  {
   "cells": [
    {
     "cell_type": "code",
     "collapsed": false,
     "input": [
      "def make_trie(*words):\n",
      "    root = dict()\n",
      "    for word in words:\n",
      "        current_root = root\n",
      "        for letter in word:\n",
      "            current_root = current_root.setdefault(letter, dict())\n",
      "        current_root = current_root.setdefault('_end_')\n",
      "    return root"
     ],
     "language": "python",
     "metadata": {},
     "outputs": [],
     "prompt_number": 2
    },
    {
     "cell_type": "code",
     "collapsed": false,
     "input": [
      "make_trie(*'foo bar baz barz'.split())"
     ],
     "language": "python",
     "metadata": {},
     "outputs": [
      {
       "metadata": {},
       "output_type": "pyout",
       "prompt_number": 4,
       "text": [
        "{'b': {'a': {'r': {'_end_': None, 'z': {'_end_': None}},\n",
        "   'z': {'_end_': None}}},\n",
        " 'f': {'o': {'o': {'_end_': None}}}}"
       ]
      }
     ],
     "prompt_number": 4
    },
    {
     "cell_type": "heading",
     "level": 6,
     "metadata": {},
     "source": [
      "Naive String Matcher"
     ]
    },
    {
     "cell_type": "code",
     "collapsed": false,
     "input": [
      "def findall(text, pattern):\n",
      "    ret = []\n",
      "    for offset in xrange(0, len(text) - len(pattern) + 1):\n",
      "        if pattern == text[offset:offset+len(pattern)]:\n",
      "            ret.append(offset)\n",
      "    return ret"
     ],
     "language": "python",
     "metadata": {},
     "outputs": [],
     "prompt_number": 27
    },
    {
     "cell_type": "code",
     "collapsed": false,
     "input": [
      "%timeit findall('abbccdesccd', 'ccd')"
     ],
     "language": "python",
     "metadata": {},
     "outputs": [
      {
       "output_type": "stream",
       "stream": "stdout",
       "text": [
        "100000 loops, best of 3: 2.67 \u00b5s per loop\n"
       ]
      }
     ],
     "prompt_number": 32
    },
    {
     "cell_type": "code",
     "collapsed": false,
     "input": [
      "def findall_exp(text, pattern):\n",
      "    ret = []\n",
      "    for offset in xrange(0, len(text) - len(pattern) + 1):\n",
      "        found = True\n",
      "        for i in xrange(len(pattern)):\n",
      "            if pattern[i] != text[offset+i]:\n",
      "                found = False\n",
      "                break\n",
      "        if found:\n",
      "            ret.append(offset)\n",
      "    return ret"
     ],
     "language": "python",
     "metadata": {},
     "outputs": [],
     "prompt_number": 40
    },
    {
     "cell_type": "code",
     "collapsed": false,
     "input": [
      "%timeit findall_exp('abbccdesccd', 'ccd')"
     ],
     "language": "python",
     "metadata": {},
     "outputs": [
      {
       "output_type": "stream",
       "stream": "stdout",
       "text": [
        "100000 loops, best of 3: 6.72 \u00b5s per loop\n"
       ]
      }
     ],
     "prompt_number": 41
    },
    {
     "cell_type": "code",
     "collapsed": false,
     "input": [],
     "language": "python",
     "metadata": {},
     "outputs": []
    }
   ],
   "metadata": {}
  }
 ]
}