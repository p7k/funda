{
 "metadata": {
  "name": "",
  "signature": "sha256:7799bcd80357a4da564838ce817c0795da73c12e146487d09d9247c5b64f2322"
 },
 "nbformat": 3,
 "nbformat_minor": 0,
 "worksheets": [
  {
   "cells": [
    {
     "cell_type": "heading",
     "level": 5,
     "metadata": {},
     "source": [
      "Binary Search Tree"
     ]
    },
    {
     "cell_type": "code",
     "collapsed": false,
     "input": [
      "def add(node, v):\n",
      "    if node:\n",
      "        add(node[1 if node[0] > v else 2], v)\n",
      "    else:\n",
      "        node.extend([v, [], []])\n",
      "\n",
      "def binary_tree(s):\n",
      "    _root_ = []\n",
      "    for e in s:\n",
      "        add(_root_, e)\n",
      "    return _root_\n",
      "\n",
      "def traverse(n):\n",
      "    if n:\n",
      "        for left in traverse(n[1]):\n",
      "            yield left\n",
      "        yield n[0]\n",
      "        for right in traverse(n[2]):\n",
      "            yield right"
     ],
     "language": "python",
     "metadata": {},
     "outputs": [],
     "prompt_number": 1
    },
    {
     "cell_type": "code",
     "collapsed": false,
     "input": [
      "t = binary_tree([4, 2, 6, 1, 3, 5, 7])"
     ],
     "language": "python",
     "metadata": {},
     "outputs": [],
     "prompt_number": 2
    },
    {
     "cell_type": "code",
     "collapsed": false,
     "input": [
      "t"
     ],
     "language": "python",
     "metadata": {},
     "outputs": [
      {
       "metadata": {},
       "output_type": "pyout",
       "prompt_number": 3,
       "text": [
        "[4, [2, [1, [], []], [3, [], []]], [6, [5, [], []], [7, [], []]]]"
       ]
      }
     ],
     "prompt_number": 3
    },
    {
     "cell_type": "code",
     "collapsed": false,
     "input": [
      "list(traverse(t))"
     ],
     "language": "python",
     "metadata": {},
     "outputs": [
      {
       "metadata": {},
       "output_type": "pyout",
       "prompt_number": 4,
       "text": [
        "[1, 2, 3, 4, 5, 6, 7]"
       ]
      }
     ],
     "prompt_number": 4
    },
    {
     "cell_type": "heading",
     "level": 5,
     "metadata": {},
     "source": [
      "Binary Tree"
     ]
    },
    {
     "cell_type": "code",
     "collapsed": false,
     "input": [
      "def _add(node, v):\n",
      "    new = [v, [], []]\n",
      "    if node:\n",
      "        left, right = node[1:]\n",
      "        if not left:\n",
      "            left.extend(new)\n",
      "        elif not right:\n",
      "            right.extend(new)\n",
      "        else:\n",
      "            _add(left, v)\n",
      "    else:\n",
      "        node.extend(new)\n",
      "            \n",
      "def binary_tree(s):\n",
      "    root = []\n",
      "    for e in s:\n",
      "        _add(root, e)\n",
      "    return root\n",
      "\n",
      "def traverse(n, order):\n",
      "    if n:\n",
      "        v = n[0]\n",
      "        if order == 'pre':\n",
      "            yield v\n",
      "        for left in traverse(n[1], order):\n",
      "            yield left\n",
      "        if order == 'in':\n",
      "            yield v\n",
      "        for right in traverse(n[2], order):\n",
      "            yield right\n",
      "        if order == 'post':\n",
      "            yield v\n",
      "                    \n",
      "def post_to_pre(s):\n",
      "    t = binary_tree(s)\n",
      "    out = traverse(t, 'post')\n",
      "    t = binary_tree(out)\n",
      "    out = traverse(t, 'pre')\n",
      "    return out"
     ],
     "language": "python",
     "metadata": {},
     "outputs": [],
     "prompt_number": 5
    },
    {
     "cell_type": "code",
     "collapsed": false,
     "input": [
      "t = binary_tree('A B C D E'.split())\n",
      "print t"
     ],
     "language": "python",
     "metadata": {},
     "outputs": [
      {
       "output_type": "stream",
       "stream": "stdout",
       "text": [
        "['A', ['B', ['D', [], []], ['E', [], []]], ['C', [], []]]\n"
       ]
      }
     ],
     "prompt_number": 12
    },
    {
     "cell_type": "raw",
     "metadata": {},
     "source": [
      "        p\n",
      "    p      23\n",
      "  2   5"
     ]
    },
    {
     "cell_type": "code",
     "collapsed": false,
     "input": [
      "list(traverse(t, 'pre')), list(traverse(t, 'in')), list(traverse(t, 'post'))"
     ],
     "language": "python",
     "metadata": {},
     "outputs": [
      {
       "metadata": {},
       "output_type": "pyout",
       "prompt_number": 15,
       "text": [
        "(['A', 'B', 'D', 'E', 'C'],\n",
        " ['D', 'B', 'E', 'A', 'C'],\n",
        " ['D', 'E', 'B', 'C', 'A'])"
       ]
      }
     ],
     "prompt_number": 15
    },
    {
     "cell_type": "code",
     "collapsed": false,
     "input": [
      "list(post_to_pre(traverse(t, 'post')))"
     ],
     "language": "python",
     "metadata": {},
     "outputs": [
      {
       "metadata": {},
       "output_type": "pyout",
       "prompt_number": 105,
       "text": [
        "['23', 'p', 'p', '2', '5']"
       ]
      }
     ],
     "prompt_number": 105
    },
    {
     "cell_type": "code",
     "collapsed": false,
     "input": [
      "[1,2,3][1:]"
     ],
     "language": "python",
     "metadata": {},
     "outputs": [
      {
       "metadata": {},
       "output_type": "pyout",
       "prompt_number": 85,
       "text": [
        "[2, 3]"
       ]
      }
     ],
     "prompt_number": 85
    },
    {
     "cell_type": "code",
     "collapsed": false,
     "input": [],
     "language": "python",
     "metadata": {},
     "outputs": []
    }
   ],
   "metadata": {}
  }
 ]
}