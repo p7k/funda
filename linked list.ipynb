{
 "metadata": {
  "name": "",
  "signature": "sha256:10edae8ca99745cd3461033ce406c9c3365c8c4712bddc1e8193d384a1a3498b"
 },
 "nbformat": 3,
 "nbformat_minor": 0,
 "worksheets": [
  {
   "cells": [
    {
     "cell_type": "code",
     "collapsed": false,
     "input": [
      "class Node(object):\n",
      "    __slots__ = 'value left right'.split()\n",
      "    def __init__(self, value, left, right):\n",
      "        self.value = value\n",
      "        self.left = left\n",
      "        self.right = right"
     ],
     "language": "python",
     "metadata": {},
     "outputs": [],
     "prompt_number": 29
    },
    {
     "cell_type": "code",
     "collapsed": false,
     "input": [
      "class LLIter:\n",
      "    def __init__(self, ll):\n",
      "        self.node = ll.head\n",
      "    def __iter__(self, ll):\n",
      "        return self\n",
      "    def next(self):\n",
      "        if self.node is None:\n",
      "            raise StopIteration()\n",
      "        ret = self.node\n",
      "        self.node = self.node.right\n",
      "        return ret.value\n",
      "            \n",
      "            \n",
      "class LinkedList(object):\n",
      "    def __init__(self):\n",
      "        self.head = None\n",
      "        self.tail = None\n",
      "    \n",
      "    def append(self, value):\n",
      "        node = Node(value, left=self.tail, right=None)\n",
      "        if self.head is None:\n",
      "            self.head = node\n",
      "        if self.tail is not None:\n",
      "            self.tail.right = node\n",
      "        self.tail = node\n",
      "    \n",
      "    def __iter__(self):\n",
      "        return LLIter(self)\n",
      "    \n",
      "    def _ill(self, node, l):\n",
      "        if node is not None:\n",
      "            l.append(node.value)\n",
      "            self._ill(node.right, l)\n",
      "            \n",
      "    def ill(self):\n",
      "        l = []\n",
      "        self._ill(self.head, l) \n",
      "        return l"
     ],
     "language": "python",
     "metadata": {},
     "outputs": [],
     "prompt_number": 105
    },
    {
     "cell_type": "code",
     "collapsed": false,
     "input": [
      "ll = LinkedList()"
     ],
     "language": "python",
     "metadata": {},
     "outputs": [],
     "prompt_number": 106
    },
    {
     "cell_type": "code",
     "collapsed": false,
     "input": [
      "ll.append(1)\n",
      "ll.append(2)\n",
      "ll.append('a')\n",
      "ll.append('b')"
     ],
     "language": "python",
     "metadata": {},
     "outputs": [],
     "prompt_number": 107
    },
    {
     "cell_type": "code",
     "collapsed": false,
     "input": [
      "list(ll)"
     ],
     "language": "python",
     "metadata": {},
     "outputs": [
      {
       "metadata": {},
       "output_type": "pyout",
       "prompt_number": 108,
       "text": [
        "[1, 2, 'a', 'b']"
       ]
      }
     ],
     "prompt_number": 108
    },
    {
     "cell_type": "code",
     "collapsed": false,
     "input": [
      "ll.ill()"
     ],
     "language": "python",
     "metadata": {},
     "outputs": [
      {
       "metadata": {},
       "output_type": "pyout",
       "prompt_number": 109,
       "text": [
        "[1, 2, 'a', 'b']"
       ]
      }
     ],
     "prompt_number": 109
    },
    {
     "cell_type": "code",
     "collapsed": false,
     "input": [],
     "language": "python",
     "metadata": {},
     "outputs": []
    }
   ],
   "metadata": {}
  }
 ]
}