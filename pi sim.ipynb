{
 "metadata": {
  "name": "",
  "signature": "sha256:773be665e783043870955111188413cbc664b38058ec8145170aee010cfe73b3"
 },
 "nbformat": 3,
 "nbformat_minor": 0,
 "worksheets": [
  {
   "cells": [
    {
     "cell_type": "code",
     "collapsed": false,
     "input": [
      "import random"
     ],
     "language": "python",
     "metadata": {},
     "outputs": [],
     "prompt_number": 1
    },
    {
     "cell_type": "code",
     "collapsed": false,
     "input": [
      "throws = 10000000\n",
      "hits = 0\n",
      "\n",
      "for i in xrange(throws):\n",
      "    dist = (random.random()**2 + random.random()**2)**(.5)\n",
      "    if dist <= 1.0:\n",
      "        hits += 1\n",
      "\n",
      "pi = 4 * (hits / float(throws))\n",
      "print pi"
     ],
     "language": "python",
     "metadata": {},
     "outputs": [
      {
       "output_type": "stream",
       "stream": "stdout",
       "text": [
        "3.1414836\n"
       ]
      }
     ],
     "prompt_number": 16
    },
    {
     "cell_type": "code",
     "collapsed": false,
     "input": [],
     "language": "python",
     "metadata": {},
     "outputs": []
    }
   ],
   "metadata": {}
  }
 ]
}