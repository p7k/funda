{
 "metadata": {
  "name": "",
  "signature": "sha256:046f2afe494966b8ecbabd0b81ac96ce7c38ed285553761b8b140ffb81a27817"
 },
 "nbformat": 3,
 "nbformat_minor": 0,
 "worksheets": [
  {
   "cells": [
    {
     "cell_type": "code",
     "collapsed": false,
     "input": [
      "def lockers(n):\n",
      "    a = [0]*n\n",
      "    for i in xrange(n):\n",
      "        for j in range(i, n, i+1):\n",
      "            a[j] = 0 if a[j] else 1\n",
      "    return sum(a)"
     ],
     "language": "python",
     "metadata": {},
     "outputs": [],
     "prompt_number": 24
    },
    {
     "cell_type": "code",
     "collapsed": false,
     "input": [
      "for n in range(1, 40):\n",
      "    print n, lockers(n)"
     ],
     "language": "python",
     "metadata": {},
     "outputs": [
      {
       "output_type": "stream",
       "stream": "stdout",
       "text": [
        "1 1\n",
        "2 1\n",
        "3 1\n",
        "4 2\n",
        "5 2\n",
        "6 2\n",
        "7 2\n",
        "8 2\n",
        "9 3\n",
        "10 3\n",
        "11 3\n",
        "12 3\n",
        "13 3\n",
        "14 3\n",
        "15 3\n",
        "16 4\n",
        "17 4\n",
        "18 4\n",
        "19 4\n",
        "20 4\n",
        "21 4\n",
        "22 4\n",
        "23 4\n",
        "24 4\n",
        "25 5\n",
        "26 5\n",
        "27 5\n",
        "28 5\n",
        "29 5\n",
        "30 5\n",
        "31 5\n",
        "32 5\n",
        "33 5\n",
        "34 5\n",
        "35 5\n",
        "36 6\n",
        "37 6\n",
        "38 6\n",
        "39 6\n"
       ]
      }
     ],
     "prompt_number": 28
    },
    {
     "cell_type": "code",
     "collapsed": false,
     "input": [
      "3**(1/2.)"
     ],
     "language": "python",
     "metadata": {},
     "outputs": [
      {
       "metadata": {},
       "output_type": "pyout",
       "prompt_number": 34,
       "text": [
        "1.9036539387158786"
       ]
      }
     ],
     "prompt_number": 34
    },
    {
     "cell_type": "code",
     "collapsed": false,
     "input": [
      "9**(1/3.)"
     ],
     "language": "python",
     "metadata": {},
     "outputs": [
      {
       "metadata": {},
       "output_type": "pyout",
       "prompt_number": 35,
       "text": [
        "2.080083823051904"
       ]
      }
     ],
     "prompt_number": 35
    },
    {
     "cell_type": "code",
     "collapsed": false,
     "input": [
      "4**(1/2)"
     ],
     "language": "python",
     "metadata": {},
     "outputs": [
      {
       "metadata": {},
       "output_type": "pyout",
       "prompt_number": 33,
       "text": [
        "1"
       ]
      }
     ],
     "prompt_number": 33
    },
    {
     "cell_type": "code",
     "collapsed": false,
     "input": [],
     "language": "python",
     "metadata": {},
     "outputs": []
    }
   ],
   "metadata": {}
  }
 ]
}